{
 "cells": [
  {
   "cell_type": "code",
   "execution_count": 59,
   "id": "50a71b4a-269e-4cc1-a6a3-8dbce450b6f7",
   "metadata": {},
   "outputs": [],
   "source": [
    "# Points to focus on to MAKE improvements in our current MODEL:\n",
    "    # Initialization -- you will have a rough idea what loss to expect => -torch.tensor(1/27.0).log()\n",
    "    #    -- logits coming out at initialisation should be zero/ or near to zero , in order to have low loss at first.\n",
    "        # weights in NN should be small at initialisation\n",
    "    # activation of hidden state: \n",
    "       # tanh layer too saturated\n",
    "\n",
    "####### How to Improve the Neural Networks ########\n",
    "# INITIALIZATION - Kaimang initiallisation - 1/sqrt(fan_in)\n",
    "# NORMALISATION - Batch Normalisation\n",
    "# OPTIMISATION - Adam, RMS Prop\n"
   ]
  },
  {
   "cell_type": "code",
   "execution_count": 66,
   "id": "8b18b368-7542-41b5-8230-e0531a117e98",
   "metadata": {},
   "outputs": [],
   "source": [
    "# Batch Normalization:\n",
    "   # roughly Gaussain -- take hidden state and standarize it to be Gaussian #   # offers stabililty to the NN\n",
    "   # but this stability comes at significant cost.\n",
    "   # it introduces some noise to the inputs -- it makes harder for NN to overfit for a given example.\n",
    "   # it kinda pads input with some noise --> changes them slightly. \n",
    "   # it couples the different examples together --> mainly in a batch\n",
    "   # regularizing affect to the network."
   ]
  },
  {
   "cell_type": "code",
   "execution_count": 2,
   "id": "94b53522-148d-4cf7-a6d3-86e4bbb4f09f",
   "metadata": {},
   "outputs": [],
   "source": [
    "import torch\n",
    "import torch.nn.functional as F\n",
    "import matplotlib.pyplot as plt  # for making figures/graphs\n",
    "%matplotlib inline"
   ]
  },
  {
   "cell_type": "code",
   "execution_count": 3,
   "id": "baf92eb1-aee2-4bf0-b99a-5e8be94f7961",
   "metadata": {},
   "outputs": [
    {
     "data": {
      "text/plain": [
       "['emma', 'olivia', 'ava', 'isabella', 'sophia', 'charlotte', 'mia', 'amelia']"
      ]
     },
     "execution_count": 3,
     "metadata": {},
     "output_type": "execute_result"
    }
   ],
   "source": [
    "# read all the words\n",
    "words = open('names.txt', 'r').read().splitlines()\n",
    "words[:8]"
   ]
  },
  {
   "cell_type": "code",
   "execution_count": 4,
   "id": "2656e827-59db-4886-8455-03ae01b0e7c0",
   "metadata": {},
   "outputs": [
    {
     "data": {
      "text/plain": [
       "32033"
      ]
     },
     "execution_count": 4,
     "metadata": {},
     "output_type": "execute_result"
    }
   ],
   "source": [
    "len(words)"
   ]
  },
  {
   "cell_type": "code",
   "execution_count": 19,
   "id": "8e60fdb4-9e0e-45c4-8722-26cb0ddda192",
   "metadata": {},
   "outputs": [],
   "source": [
    "# build the vocabulary of characters and mappings to/from integers\n",
    "chars = sorted(list(set(''.join(words))))\n",
    "\n",
    "stoi = {s: i+1 for i,s in enumerate(chars)} #dictionary\n",
    "stoi['.'] = 0\n",
    "itos = {i : s for s,i in stoi.items()} # dictionary\n",
    "vocab_size = len(stoi)"
   ]
  },
  {
   "cell_type": "code",
   "execution_count": 20,
   "id": "df08acd0-eb61-49b9-bbb4-b8d60c4855bc",
   "metadata": {},
   "outputs": [
    {
     "name": "stdout",
     "output_type": "stream",
     "text": [
      "torch.Size([182441, 3]) torch.Size([182441])\n",
      "torch.Size([22902, 3]) torch.Size([22902])\n",
      "torch.Size([22803, 3]) torch.Size([22803])\n"
     ]
    }
   ],
   "source": [
    "# building the dataset\n",
    "block_size = 3\n",
    "def build_dataset(words):\n",
    "     # context length: how many characters do we take to predict the next one?\n",
    "    X, Y = [], []\n",
    "    for w in words:\n",
    "    \n",
    "        #print(w)\n",
    "        context = [0] * block_size\n",
    "        for ch in w + '.':\n",
    "            ix = stoi[ch]\n",
    "            X.append(context)\n",
    "            Y.append(ix)\n",
    "            #print(''.join(itos[i] for i in context), '--->', itos[ix])\n",
    "            context = context[1:] + [ix] # crop and append\n",
    "    \n",
    "    X = torch.tensor(X)\n",
    "    Y = torch.tensor(Y)\n",
    "    print(X.shape, Y.shape)\n",
    "    return X, Y\n",
    "\n",
    "import random\n",
    "random.seed(42)\n",
    "random.shuffle(words)\n",
    "n1 = int(0.8*len(words))\n",
    "n2 = int(0.9*len(words))\n",
    "\n",
    "Xtr, Ytr = build_dataset(words[:n1])\n",
    "Xdev, Ydev = build_dataset(words[n1:n2])\n",
    "Xte, Yte = build_dataset(words[n2:])"
   ]
  },
  {
   "cell_type": "code",
   "execution_count": 7,
   "id": "d3406121-12a9-4a4c-a89a-a292ac6d14c2",
   "metadata": {},
   "outputs": [],
   "source": [
    "#### ------------------- MLP Model ------ #######"
   ]
  },
  {
   "cell_type": "code",
   "execution_count": 21,
   "id": "8806352c-187f-4ea0-ba12-ac6d92ac8e58",
   "metadata": {},
   "outputs": [
    {
     "data": {
      "text/plain": [
       "(torch.Size([182441, 3]), torch.Size([182441]))"
      ]
     },
     "execution_count": 21,
     "metadata": {},
     "output_type": "execute_result"
    }
   ],
   "source": [
    "\n",
    "Xtr.shape, Ytr.shape # dataset"
   ]
  },
  {
   "cell_type": "code",
   "execution_count": 55,
   "id": "3bdce55e-448b-4d82-aedd-b7861c722f1f",
   "metadata": {},
   "outputs": [
    {
     "name": "stdout",
     "output_type": "stream",
     "text": [
      "11897\n"
     ]
    }
   ],
   "source": [
    "n_embd = 10 # the dimensionality of the character embedding vectors\n",
    "n_hidden = 200 # the number of neurons in the hidden layer of the MLP\n",
    "\n",
    "g = torch.Generator().manual_seed(2147483647) # for reproducibility\n",
    "C = torch.randn((vocab_size, n_embd), generator=g)\n",
    "W1 = torch.randn((n_embd * block_size, n_hidden), generator=g) * 0.2\n",
    "b1 = torch. randn(n_hidden, generator=g) * 0.01\n",
    "W2 = torch.randn((n_hidden, vocab_size), generator=g) * 0.01\n",
    "b2 = torch.randn(vocab_size, generator=g) * 0\n",
    "parameters = [C, W1, b1, W2, b2]\n",
    "print(sum(p.nelement() for p in parameters)) # number of parameters in total\n",
    "for p in parameters:\n",
    "    p.requires_grad = True"
   ]
  },
  {
   "cell_type": "code",
   "execution_count": 17,
   "id": "97431d6f-deca-481a-8ddd-a283831065af",
   "metadata": {},
   "outputs": [
    {
     "data": {
      "text/plain": [
       "torch.Size([32, 3])"
      ]
     },
     "execution_count": 17,
     "metadata": {},
     "output_type": "execute_result"
    }
   ],
   "source": [
    "Xb.shape"
   ]
  },
  {
   "cell_type": "code",
   "execution_count": 64,
   "id": "0fab14e4-f69a-4a12-af8d-27128e2e5051",
   "metadata": {},
   "outputs": [
    {
     "data": {
      "text/plain": [
       "torch.Size([1, 200])"
      ]
     },
     "execution_count": 64,
     "metadata": {},
     "output_type": "execute_result"
    }
   ],
   "source": [
    "hpreact.mean(0, keepdims=True).shape"
   ]
  },
  {
   "cell_type": "code",
   "execution_count": 56,
   "id": "cac6d51a-8c89-45e5-9bc2-ef26ed7fc96e",
   "metadata": {},
   "outputs": [
    {
     "name": "stdout",
     "output_type": "stream",
     "text": [
      "      0/ 200000: 3.2918\n",
      "  10000/ 200000: 2.3415\n",
      "  20000/ 200000: 2.2265\n",
      "  30000/ 200000: 2.1399\n",
      "  40000/ 200000: 2.1170\n",
      "  50000/ 200000: 2.0422\n",
      "  60000/ 200000: 1.9054\n",
      "  70000/ 200000: 2.2573\n",
      "  80000/ 200000: 2.1005\n",
      "  90000/ 200000: 1.9997\n",
      " 100000/ 200000: 1.9147\n",
      " 110000/ 200000: 1.8754\n",
      " 120000/ 200000: 2.1133\n",
      " 130000/ 200000: 2.0987\n",
      " 140000/ 200000: 1.7268\n",
      " 150000/ 200000: 2.1562\n",
      " 160000/ 200000: 1.7102\n",
      " 170000/ 200000: 1.8485\n",
      " 180000/ 200000: 2.1321\n",
      " 190000/ 200000: 1.7045\n"
     ]
    }
   ],
   "source": [
    "\n",
    "# optimization\n",
    "max_steps = 200000\n",
    "batch_size = 32\n",
    "lossi = []\n",
    "\n",
    "for i in range(max_steps):\n",
    "    # minibatch construct\n",
    "    ix = torch.randint(0, Xtr.shape[0], (batch_size,), generator=g)\n",
    "    Xb, Yb = Xtr[ix], Ytr[ix] # batch X, Y\n",
    "\n",
    "    # forward pass\n",
    "    emb = C[Xb] # embed the characters into vectors\n",
    "    embcat = emb.view(emb.shape[0], -1)  # concatenate the vectors\n",
    "    hpreact = embcat @ W1 + b1 # hidden layer pre-activation\n",
    "    h = torch.tanh(hpreact) # (32, 100) hidden layer\n",
    "    logits = h @ W2 + b2 # (32, 27) output layer\n",
    "    loss = F.cross_entropy(logits, Yb) \n",
    "    # print(loss.item())\n",
    "    \n",
    "    # always use cross_entropy function in pytorch --> very efficient computationally\n",
    "    # its also numerical well behaved\n",
    "    \n",
    "    \n",
    "    # backward pass\n",
    "    for p in parameters:\n",
    "        p.grad = None\n",
    "    loss.backward()\n",
    "    \n",
    "    #update\n",
    "    lr = 0.1 if i < 100000 else 0.01 # step learning rate decay\n",
    "    for p in parameters:\n",
    "        p.data += -lr * p.grad\n",
    "\n",
    "    # # track stats\n",
    "    # lri.append(lre[i])\n",
    "    if i % 10000 == 0: # print every once in a while\n",
    "        print(f'{i:7d}/{max_steps:7d}: {loss.item():.4f}')\n",
    "    #stepi.append(i)\n",
    "    lossi.append(loss.log10().item())\n",
    "    #break\n",
    "\n",
    "# learning rate = -1 ? how do you decide learning rate?\n",
    "\n",
    "#print(loss.item())"
   ]
  },
  {
   "cell_type": "code",
   "execution_count": 54,
   "id": "22bfd1d2-1558-475d-b527-7cef6caa69ea",
   "metadata": {},
   "outputs": [
    {
     "data": {
      "text/plain": [
       "<matplotlib.image.AxesImage at 0x156157fd0>"
      ]
     },
     "execution_count": 54,
     "metadata": {},
     "output_type": "execute_result"
    },
    {
     "data": {
      "image/png": "[encoded data removed]",
      "text/plain": [
       "<Figure size 2000x1000 with 1 Axes>"
      ]
     },
     "metadata": {},
     "output_type": "display_data"
    }
   ],
   "source": [
    "plt.figure(figsize=(20,10))\n",
    "plt.imshow(h.abs() > 0.99, cmap='gray', interpolation='nearest')"
   ]
  },
  {
   "cell_type": "code",
   "execution_count": 48,
   "id": "f6320f67-753b-44d4-843f-5d3c8ae08c89",
   "metadata": {},
   "outputs": [
    {
     "data": {
      "image/png": "[encoded data removed]",
      "text/plain": [
       "<Figure size 640x480 with 1 Axes>"
      ]
     },
     "metadata": {},
     "output_type": "display_data"
    }
   ],
   "source": [
    "plt.hist(h.view(-1).tolist(), 50);"
   ]
  },
  {
   "cell_type": "code",
   "execution_count": 49,
   "id": "dada2ea6-62e7-4dab-9d44-a5135493f18b",
   "metadata": {},
   "outputs": [
    {
     "data": {
      "image/png": "[encoded data removed]",
      "text/plain": [
       "<Figure size 640x480 with 1 Axes>"
      ]
     },
     "metadata": {},
     "output_type": "display_data"
    }
   ],
   "source": [
    "plt.hist(hpreact.view(-1).tolist(), 50);"
   ]
  },
  {
   "cell_type": "code",
   "execution_count": 40,
   "id": "7082c54f-1834-4cce-bfb5-633bad199245",
   "metadata": {},
   "outputs": [
    {
     "data": {
      "text/plain": [
       "tensor([-0.0727, -0.0636,  0.0549,  0.0284,  0.2138,  0.0907,  0.0254,  0.1912,\n",
       "        -0.0251,  0.1042,  0.2637,  0.0818, -0.1316, -0.1630, -0.0147,  0.2938,\n",
       "        -0.0488, -0.0956,  0.1463, -0.0641, -0.0354,  0.0510, -0.2465, -0.2711,\n",
       "         0.1083,  0.0665, -0.0598], grad_fn=<SelectBackward0>)"
      ]
     },
     "execution_count": 40,
     "metadata": {},
     "output_type": "execute_result"
    }
   ],
   "source": [
    "logits[31]"
   ]
  },
  {
   "cell_type": "code",
   "execution_count": null,
   "id": "01e45214-e47f-4154-918d-c7192191af33",
   "metadata": {},
   "outputs": [],
   "source": []
  },
  {
   "cell_type": "code",
   "execution_count": 30,
   "id": "f32774f9-bcd5-4ba8-a87e-88464c2fa288",
   "metadata": {},
   "outputs": [
    {
     "data": {
      "text/plain": [
       "tensor(3.2958)"
      ]
     },
     "execution_count": 30,
     "metadata": {},
     "output_type": "execute_result"
    }
   ],
   "source": [
    "-torch.tensor(1/27.0).log()"
   ]
  },
  {
   "cell_type": "code",
   "execution_count": 42,
   "id": "4e683db5-2bdc-414d-b6d2-5216de6fa88d",
   "metadata": {},
   "outputs": [
    {
     "data": {
      "text/plain": [
       "[<matplotlib.lines.Line2D at 0x126e30890>]"
      ]
     },
     "execution_count": 42,
     "metadata": {},
     "output_type": "execute_result"
    },
    {
     "data": {
      "image/png": "[encoded data removed]",
      "text/plain": [
       "<Figure size 640x480 with 1 Axes>"
      ]
     },
     "metadata": {},
     "output_type": "display_data"
    }
   ],
   "source": [
    "plt.plot(lossi)"
   ]
  },
  {
   "cell_type": "code",
   "execution_count": null,
   "id": "3850f415-efc0-4cbe-8ab0-1e6dd57d4bda",
   "metadata": {},
   "outputs": [],
   "source": [
    "# loss log\n",
    "# original:\n",
    "\n",
    "\n",
    "# fix softmax \n",
    "train 2.067230701446533\n",
    "val 2.136781930923462\n",
    "\n",
    "# fix tanh layer too saturated at init:\n",
    "train 2.0339813232421875\n",
    "val 2.1082637310028076"
   ]
  },
  {
   "cell_type": "code",
   "execution_count": 57,
   "id": "1852312c-57ed-4d53-bef6-fc66af79876a",
   "metadata": {},
   "outputs": [
    {
     "name": "stdout",
     "output_type": "stream",
     "text": [
      "train 2.0339813232421875\n",
      "val 2.1082637310028076\n"
     ]
    }
   ],
   "source": [
    "@torch.no_grad() # this decorator disables gradient tracking\n",
    "def split_loss(split):\n",
    "    x,y = {\n",
    "        'train': (Xtr, Ytr),\n",
    "        'val': (Xdev, Ydev),\n",
    "        'test': (Xte, Yte),\n",
    "    }[split]\n",
    "    emb = C[x] # (N, block_size, n_embd)\n",
    "    embcat = emb.view(emb.shape[0], -1) # concat into (N, block_size * n_embd)\n",
    "    h = torch.tanh(embcat @ W1 + b1) # (32, 100) hidden layer\n",
    "    logits = h @ W2 + b2 # (32, 27) output layer\n",
    "    loss = F.cross_entropy(logits, y) \n",
    "    print(split, loss.item())\n",
    "\n",
    "split_loss('train')\n",
    "split_loss('val')"
   ]
  },
  {
   "cell_type": "code",
   "execution_count": null,
   "id": "3fdb6308-8728-4e9a-8f47-9fee7d664a37",
   "metadata": {},
   "outputs": [],
   "source": []
  },
  {
   "cell_type": "code",
   "execution_count": null,
   "id": "c328007d-494d-487b-8d48-1200ecaf9337",
   "metadata": {},
   "outputs": [],
   "source": []
  },
  {
   "cell_type": "code",
   "execution_count": null,
   "id": "a0e365d4-19c6-4b60-aac0-ca1e4666447c",
   "metadata": {},
   "outputs": [],
   "source": [
    "# sample from the model\n",
    "g = torch.Generator().manual_seed(2147483647 + 10)\n",
    "\n",
    "for _ in range(20):\n",
    "    \n",
    "    out = []\n",
    "    context = [0] * block_size # initialize with all ...\n",
    "    while True:\n",
    "      # forward pass the neural net\n",
    "      emb = C[torch.tensor([context])] # (1,block_size,n_embd)\n",
    "      h = torch.tanh(emb.view(1, -1) @ W1 + b1)  \n",
    "        logits = h @ W2 + b2\n",
    "        probs = F.softmax(logits, dim=1)\n",
    "      x = emb.view(emb.shape[0], -1) # concatenate the vectors\n",
    "      for layer in layers:\n",
    "        x = layer(x)\n",
    "      logits = x\n",
    "      \n",
    "      # sample from the distribution\n",
    "      ix = torch.multinomial(probs, num_samples=1, generator=g).item()\n",
    "      # shift the context window and track the samples\n",
    "      context = context[1:] + [ix]\n",
    "      out.append(ix)\n",
    "      # if we sample the special '.' token, break\n",
    "      if ix == 0:\n",
    "        break\n",
    "    \n",
    "    print(''.join(itos[i] for i in out)) # decode and print the generated word"
   ]
  },
  {
   "cell_type": "code",
   "execution_count": 97,
   "id": "24a1502f-55ca-4049-99a6-5ab879bb8f28",
   "metadata": {},
   "outputs": [],
   "source": [
    "x =logits.max(1)"
   ]
  },
  {
   "cell_type": "code",
   "execution_count": 109,
   "id": "dc9bd118-3c02-4b68-a6a4-c3a79ab5b758",
   "metadata": {},
   "outputs": [
    {
     "data": {
      "text/plain": [
       "tensor([158989,  62780,  46407, 211708,  59324, 199524,  71096, 170125,  79818,\n",
       "         66386, 164519,  23341, 153737,  18118,   3396, 214381, 190329,  16422,\n",
       "        216412,  87330, 214197,  39250,   6327, 156388, 225341, 180642, 183091,\n",
       "         48008,  51357,  31222, 153567, 199523])"
      ]
     },
     "execution_count": 109,
     "metadata": {},
     "output_type": "execute_result"
    }
   ],
   "source": [
    "torch.randint(0, X.shape[0], (32,))"
   ]
  },
  {
   "cell_type": "code",
   "execution_count": 221,
   "id": "450afd54-ff93-4100-90f8-ceb0904c2261",
   "metadata": {},
   "outputs": [
    {
     "data": {
      "text/plain": [
       "tensor(2.2028, grad_fn=<NllLossBackward0>)"
      ]
     },
     "execution_count": 221,
     "metadata": {},
     "output_type": "execute_result"
    }
   ],
   "source": [
    "emb = C[Xdev] # (32, 3, 2)\n",
    "h = torch.tanh(emb.view(-1, 30) @ W1 + b1) # (32, 100)\n",
    "logits = h @ W2 + b2 # (32, 27)\n",
    "loss = F.cross_entropy(logits, Ydev)\n",
    "loss"
   ]
  },
  {
   "cell_type": "code",
   "execution_count": null,
   "id": "545d5880-7cca-4e30-9c0d-8ca54964ac63",
   "metadata": {},
   "outputs": [],
   "source": [
    "# how do you find a reasonable learning rate?\n",
    "\n",
    "# learning rate decay during later part of traning.\n",
    "\n",
    "# split dataset : training , dev/validation, test\n",
    "# 80%, 10%, 10%"
   ]
  },
  {
   "cell_type": "code",
   "execution_count": 234,
   "id": "15e2cbd6-0fa3-4f3c-b27c-1cab78bafd2b",
   "metadata": {},
   "outputs": [
    {
     "data": {
      "text/plain": [
       "tensor(2.1532, grad_fn=<NllLossBackward0>)"
      ]
     },
     "execution_count": 234,
     "metadata": {},
     "output_type": "execute_result"
    }
   ],
   "source": [
    "emb = C[Xdev] # (32, 3, 2)\n",
    "h = torch.tanh(emb.view(-1, 30) @ W1 + b1) # (32, 100)\n",
    "logits = h @ W2 + b2 # (32, 27)\n",
    "loss = F.cross_entropy(logits, Ydev)\n",
    "loss"
   ]
  },
  {
   "cell_type": "code",
   "execution_count": 233,
   "id": "2d01dfe3-ac03-4505-9cce-c47baa7ad42c",
   "metadata": {},
   "outputs": [
    {
     "data": {
      "text/plain": [
       "tensor(2.1181, grad_fn=<NllLossBackward0>)"
      ]
     },
     "execution_count": 233,
     "metadata": {},
     "output_type": "execute_result"
    }
   ],
   "source": [
    "emb = C[Xtr] # (32, 3, 2)\n",
    "h = torch.tanh(emb.view(-1, 30) @ W1 + b1) # (32, 100)\n",
    "logits = h @ W2 + b2 # (32, 27)\n",
    "loss = F.cross_entropy(logits, Ytr)\n",
    "loss"
   ]
  },
  {
   "cell_type": "code",
   "execution_count": 201,
   "id": "3ba5d3cd-1754-4f1a-a621-d5a05a52c30a",
   "metadata": {},
   "outputs": [],
   "source": [
    "# since training loss is same develoment loss, that means we can still improve the network using scaling the network.\n",
    "\n",
    "# dimension of embedding can be bottleneck\n",
    "\n",
    "# visualize the embedding vectors"
   ]
  },
  {
   "cell_type": "code",
   "execution_count": 228,
   "id": "e605978a-9b9d-4b7e-8d0f-2bfe5be49b9a",
   "metadata": {},
   "outputs": [
    {
     "data": {
      "image/png": "[encoded data removed]",
      "text/plain": [
       "<Figure size 800x800 with 1 Axes>"
      ]
     },
     "metadata": {},
     "output_type": "display_data"
    }
   ],
   "source": [
    "plt.figure(figsize=(8,8))\n",
    "plt.scatter(C[:,0].data, C[:,1].data, s=100)\n",
    "for i in range(C.shape[0]):\n",
    "    plt.text(C[i,0].item(), C[i,1].item(), itos[i], ha='center', va='center', color='white')\n",
    "\n",
    "plt.grid('minor')"
   ]
  },
  {
   "cell_type": "code",
   "execution_count": null,
   "id": "9143467e-2a54-4e53-a95f-8d1d4eefb3ac",
   "metadata": {},
   "outputs": [],
   "source": [
    "# sample from the model\n",
    "\n",
    "g = torch.Generator().manual_seed(2147483647 + 10)\n",
    "\n",
    "for _ in range(20):"
   ]
  }
 ],
 "metadata": {
  "kernelspec": {
   "display_name": "Python 3 (ipykernel)",
   "language": "python",
   "name": "python3"
  },
  "language_info": {
   "codemirror_mode": {
    "name": "ipython",
    "version": 3
   },
   "file_extension": ".py",
   "mimetype": "text/x-python",
   "name": "python",
   "nbconvert_exporter": "python",
   "pygments_lexer": "ipython3",
   "version": "3.11.7"
  }
 },
 "nbformat": 4,
 "nbformat_minor": 5
}
