{
 "cells": [
  {
   "cell_type": "code",
   "execution_count": 2,
   "id": "2e107b8f-21c0-467a-8cfa-670e24a372ae",
   "metadata": {},
   "outputs": [],
   "source": [
    "# Paper\n",
    "# A Neural Probabilistic Language Model - 2003 - bengio\n",
    "# MODEL:\n",
    "    # Voab - 17000, world level language model\n",
    "    # creating an embedding matrix C --> (17000 * 30)\n",
    "    # initially C is a randomised matrix , then it will be tuned with ANN\n",
    "    # using --> MLP NN -- Multi Layer Perceptron Model\n",
    "    # tuned to maximize the log-likelihood of the training data -- minimize the NLL\n",
    "    # Why does this model work? Intuition behind this.\n",
    "# Questions: \n",
    "    # "
   ]
  },
  {
   "cell_type": "code",
   "execution_count": 3,
   "id": "94b53522-148d-4cf7-a6d3-86e4bbb4f09f",
   "metadata": {},
   "outputs": [],
   "source": [
    "import torch\n",
    "import torch.nn.functional as F\n",
    "import matplotlib.pyplot as plt  # for making figures/graphs\n",
    "%matplotlib inline"
   ]
  },
  {
   "cell_type": "code",
   "execution_count": 4,
   "id": "baf92eb1-aee2-4bf0-b99a-5e8be94f7961",
   "metadata": {},
   "outputs": [
    {
     "data": {
      "text/plain": [
       "['emma', 'olivia', 'ava', 'isabella', 'sophia', 'charlotte', 'mia', 'amelia']"
      ]
     },
     "execution_count": 4,
     "metadata": {},
     "output_type": "execute_result"
    }
   ],
   "source": [
    "# read all the words\n",
    "words = open('names.txt', 'r').read().splitlines()\n",
    "words[:8]"
   ]
  },
  {
   "cell_type": "code",
   "execution_count": 5,
   "id": "2656e827-59db-4886-8455-03ae01b0e7c0",
   "metadata": {},
   "outputs": [
    {
     "data": {
      "text/plain": [
       "32033"
      ]
     },
     "execution_count": 5,
     "metadata": {},
     "output_type": "execute_result"
    }
   ],
   "source": [
    "len(words)"
   ]
  },
  {
   "cell_type": "code",
   "execution_count": 6,
   "id": "8e60fdb4-9e0e-45c4-8722-26cb0ddda192",
   "metadata": {},
   "outputs": [],
   "source": [
    "# build the vocabulary of characters and mappings to/from integers\n",
    "chars = sorted(list(set(''.join(words))))\n",
    "stoi = {s: i+1 for i,s in enumerate(chars)} #dictionary\n",
    "stoi['.'] = 0\n",
    "itos = {i : s for s,i in stoi.items()} # dictionary"
   ]
  },
  {
   "cell_type": "code",
   "execution_count": 100,
   "id": "26a781d7-9467-49e7-a72e-72972e20e85e",
   "metadata": {},
   "outputs": [],
   "source": [
    "# building the dataset\n",
    "\n",
    "block_size = 3 # context length: how many characters do we take to predict the next one?\n",
    "X, Y = [], []\n",
    "for w in words:\n",
    "\n",
    "    #print(w)\n",
    "    context = [0] * block_size\n",
    "    for ch in w + '.':\n",
    "        ix = stoi[ch]\n",
    "        X.append(context)\n",
    "        Y.append(ix)\n",
    "        #print(''.join(itos[i] for i in context), '--->', itos[ix])\n",
    "        context = context[1:] + [ix] # crop and append\n",
    "\n",
    "X = torch.tensor(X)\n",
    "Y = torch.tensor(Y)"
   ]
  },
  {
   "cell_type": "code",
   "execution_count": 163,
   "id": "df08acd0-eb61-49b9-bbb4-b8d60c4855bc",
   "metadata": {},
   "outputs": [
    {
     "name": "stdout",
     "output_type": "stream",
     "text": [
      "torch.Size([182625, 3]) torch.Size([182625])\n",
      "torch.Size([22655, 3]) torch.Size([22655])\n",
      "torch.Size([22866, 3]) torch.Size([22866])\n"
     ]
    }
   ],
   "source": [
    "# building the dataset\n",
    "\n",
    "def build_dataset(words):\n",
    "    block_size = 3 # context length: how many characters do we take to predict the next one?\n",
    "    X, Y = [], []\n",
    "    for w in words:\n",
    "    \n",
    "        #print(w)\n",
    "        context = [0] * block_size\n",
    "        for ch in w + '.':\n",
    "            ix = stoi[ch]\n",
    "            X.append(context)\n",
    "            Y.append(ix)\n",
    "            #print(''.join(itos[i] for i in context), '--->', itos[ix])\n",
    "            context = context[1:] + [ix] # crop and append\n",
    "    \n",
    "    X = torch.tensor(X)\n",
    "    Y = torch.tensor(Y)\n",
    "    print(X.shape, Y.shape)\n",
    "    return X, Y\n",
    "\n",
    "import random\n",
    "random.seed(42)\n",
    "random.shuffle(words)\n",
    "n1 = int(0.8*len(words))\n",
    "n2 = int(0.9*len(words))\n",
    "\n",
    "Xtr, Ytr = build_dataset(words[:n1])\n",
    "Xdev, Ydev = build_dataset(words[n1:n2])\n",
    "Xte, Yte = build_dataset(words[n2:])"
   ]
  },
  {
   "cell_type": "code",
   "execution_count": 101,
   "id": "a6c717e3-a0d2-4563-b373-2112bd0887a4",
   "metadata": {},
   "outputs": [
    {
     "data": {
      "text/plain": [
       "(torch.Size([228146, 3]), torch.int64, torch.Size([228146]), torch.int64)"
      ]
     },
     "execution_count": 101,
     "metadata": {},
     "output_type": "execute_result"
    }
   ],
   "source": [
    "X.shape, X.dtype, Y.shape, Y.dtype"
   ]
  },
  {
   "cell_type": "code",
   "execution_count": 12,
   "id": "58a18f11-aa3e-4dcd-a653-ea00c4ecc7c9",
   "metadata": {},
   "outputs": [],
   "source": [
    "# here we are initializing randomly to create an embedded matrix C of dimension (27, 2)\n",
    "# we are basically cramping up 27 characters into an 2D embeddings. so each character will have two values.\n",
    "\n",
    "C = torch.randn((27, 2))\n",
    "\n",
    "# now we need to index this matrix C"
   ]
  },
  {
   "cell_type": "code",
   "execution_count": 14,
   "id": "aff3bdbf-4548-4600-ba76-e8b0e480eeeb",
   "metadata": {},
   "outputs": [
    {
     "data": {
      "text/plain": [
       "torch.Size([32, 3, 2])"
      ]
     },
     "execution_count": 14,
     "metadata": {},
     "output_type": "execute_result"
    }
   ],
   "source": [
    "#X\n",
    "# basically every element of X is to be converted into its embedded form i.e 0 --> [a, b]. How to do this?\n",
    "# X(32,3) -- C(27,2) --> (32,3,2)\n",
    "# how to index C using X? \n",
    "# how to converted X into its embedded form?\n",
    "# here we are indexing into the embedding matrix C using X ( so each character of X will be replaced by the corresponding [a, b] values)\n",
    "\n",
    "emb = C[X]\n",
    "emb.shape"
   ]
  },
  {
   "cell_type": "code",
   "execution_count": 15,
   "id": "3f04361c-632b-4591-aa9a-237d0037ac31",
   "metadata": {},
   "outputs": [],
   "source": [
    "# now we initialize weights for hidden layer\n",
    "# W1[6, 100] --> why 6? --> since each emedding matrix gives an output of 2 and then we have 3 embeddings so. 2*3 = 6\n",
    "\n",
    "W1 = torch.randn((6, 100))\n",
    "b1 = torch.randn(100)\n",
    "\n",
    "#emb @ W1 + b1 , we can not directly do the dot product for obvious reasons.\n",
    "\n",
    "# we need to covert 32,3,2 into 32,6, means concatenate"
   ]
  },
  {
   "cell_type": "code",
   "execution_count": 52,
   "id": "d8c9a708-a40e-430f-b5c1-c33554223d96",
   "metadata": {},
   "outputs": [],
   "source": [
    "# how to convert / manipulate/ transform dimensions of a tensor?\n",
    "\n",
    "#torch.unbind(emb, 2)  # unwind the tensors along dimension 1\n",
    "\n",
    "#torch.cat(torch.unbind(emb, 1), 1).shape \n",
    "\n",
    "####### IMPORTANT -- TENSOR MANIPULATION #########\n",
    "\n",
    "# cat --> create a whole new tensor --> takes extra memory"
   ]
  },
  {
   "cell_type": "code",
   "execution_count": 51,
   "id": "2e65c0cf-9ec0-4af6-91a6-079ddc7c7d03",
   "metadata": {},
   "outputs": [],
   "source": [
    "# reach about iternals of Torch.tensor..."
   ]
  },
  {
   "cell_type": "code",
   "execution_count": 38,
   "id": "ece1c4a8-033c-43f4-a6fb-8fc68a11e5f3",
   "metadata": {},
   "outputs": [],
   "source": [
    "#h = emb.view(emb.shape[0],6) @ W1 + b1\n",
    "h = torch.tanh(emb.view(-1,6) @ W1 + b1)   # beware of broadcasting in embedded vector too\n",
    "\n",
    "# -1 --> then pytorch will derive the dimension d\n",
    "\n",
    "#.view --> its very efficient --> doesnt create a new tensor --> just manipulates the data while viewing\n",
    "\n",
    "## Read blogpost by ERIC -- ezyang.com -- PyTorch Internals ####"
   ]
  },
  {
   "cell_type": "code",
   "execution_count": 36,
   "id": "36fe3743-6403-407e-b1a3-c7e36c2c73b1",
   "metadata": {},
   "outputs": [],
   "source": [
    "# 32 , 100\n",
    "# 1   , 100  for b"
   ]
  },
  {
   "cell_type": "code",
   "execution_count": 40,
   "id": "b56f25cb-60ce-44f1-ad66-bfa7b01b94db",
   "metadata": {},
   "outputs": [],
   "source": [
    "W2 = torch.randn((100, 27))\n",
    "b2 = torch.randn(27)"
   ]
  },
  {
   "cell_type": "code",
   "execution_count": 41,
   "id": "9f83bb61-8cc8-4284-8775-5c3633ab00ff",
   "metadata": {},
   "outputs": [],
   "source": [
    "logits = h @ W2 + b2"
   ]
  },
  {
   "cell_type": "code",
   "execution_count": 42,
   "id": "1417e618-51c3-4f27-bf80-e27ab1c58d0a",
   "metadata": {},
   "outputs": [
    {
     "data": {
      "text/plain": [
       "torch.Size([32, 27])"
      ]
     },
     "execution_count": 42,
     "metadata": {},
     "output_type": "execute_result"
    }
   ],
   "source": [
    "logits.shape"
   ]
  },
  {
   "cell_type": "code",
   "execution_count": 43,
   "id": "01107f81-5360-4918-b9aa-a6af6e5b755a",
   "metadata": {},
   "outputs": [],
   "source": [
    "counts = logits.exp()"
   ]
  },
  {
   "cell_type": "code",
   "execution_count": 44,
   "id": "e5009971-b50d-48ab-8aad-0589c458583a",
   "metadata": {},
   "outputs": [],
   "source": [
    "prob = counts/ counts.sum(1, keepdims=True)"
   ]
  },
  {
   "cell_type": "code",
   "execution_count": 59,
   "id": "c8c3ed52-0548-421e-92e8-2255e4d75f7e",
   "metadata": {},
   "outputs": [
    {
     "data": {
      "text/plain": [
       "torch.Size([32, 27])"
      ]
     },
     "execution_count": 59,
     "metadata": {},
     "output_type": "execute_result"
    }
   ],
   "source": [
    "prob.shape"
   ]
  },
  {
   "cell_type": "code",
   "execution_count": 68,
   "id": "70993e00-6f77-40bd-907e-198f87a01a44",
   "metadata": {},
   "outputs": [
    {
     "data": {
      "text/plain": [
       "tensor(15.5982)"
      ]
     },
     "execution_count": 68,
     "metadata": {},
     "output_type": "execute_result"
    }
   ],
   "source": [
    "loss = -prob[torch.arange(32), Y].log().mean()\n",
    "loss"
   ]
  },
  {
   "cell_type": "code",
   "execution_count": 61,
   "id": "ee050e2c-1973-4798-9f28-009e0b4acf19",
   "metadata": {},
   "outputs": [
    {
     "data": {
      "text/plain": [
       "tensor([ 0,  1,  2,  3,  4,  5,  6,  7,  8,  9, 10, 11, 12, 13, 14, 15, 16, 17,\n",
       "        18, 19, 20, 21, 22, 23, 24, 25, 26, 27, 28, 29, 30, 31])"
      ]
     },
     "execution_count": 61,
     "metadata": {},
     "output_type": "execute_result"
    }
   ],
   "source": [
    "torch.arange(32)  # used to index into the matrix"
   ]
  },
  {
   "cell_type": "code",
   "execution_count": 64,
   "id": "8336944b-19d7-41a6-b5c3-7f8febc46032",
   "metadata": {},
   "outputs": [
    {
     "data": {
      "text/plain": [
       "tensor([ 5, 13, 13,  1,  0, 15, 12,  9, 22,  9,  1,  0,  1, 22,  1,  0,  9, 19,\n",
       "         1,  2,  5, 12, 12,  1,  0, 19, 15, 16,  8,  9,  1,  0])"
      ]
     },
     "execution_count": 64,
     "metadata": {},
     "output_type": "execute_result"
    }
   ],
   "source": [
    "Y"
   ]
  },
  {
   "cell_type": "code",
   "execution_count": 69,
   "id": "d3406121-12a9-4a4c-a89a-a292ac6d14c2",
   "metadata": {},
   "outputs": [],
   "source": [
    "#### ------------------- now written in concise ------"
   ]
  },
  {
   "cell_type": "code",
   "execution_count": 188,
   "id": "8806352c-187f-4ea0-ba12-ac6d92ac8e58",
   "metadata": {},
   "outputs": [
    {
     "data": {
      "text/plain": [
       "(torch.Size([182625, 3]), torch.Size([182625]))"
      ]
     },
     "execution_count": 188,
     "metadata": {},
     "output_type": "execute_result"
    }
   ],
   "source": [
    "Xtr.shape, Ytr.shape # dataset"
   ]
  },
  {
   "cell_type": "code",
   "execution_count": 229,
   "id": "3bdce55e-448b-4d82-aedd-b7861c722f1f",
   "metadata": {},
   "outputs": [],
   "source": [
    "g = torch.Generator().manual_seed(2147483647) # for reproducibility\n",
    "C = torch.randn((27, 10), generator=g)\n",
    "W1 = torch.randn((30, 200), generator=g)\n",
    "b1 = torch. randn(200, generator=g)\n",
    "W2 = torch.randn((200, 27), generator=g)\n",
    "b2 = torch.randn(27, generator=g)\n",
    "parameters = [C, W1, b1, W2, b2]"
   ]
  },
  {
   "cell_type": "code",
   "execution_count": 211,
   "id": "9e52d986-736e-45b7-aa8b-44f79b25aa44",
   "metadata": {},
   "outputs": [
    {
     "data": {
      "text/plain": [
       "11897"
      ]
     },
     "execution_count": 211,
     "metadata": {},
     "output_type": "execute_result"
    }
   ],
   "source": [
    "sum(p.nelement() for p in parameters) # number of parameters in total"
   ]
  },
  {
   "cell_type": "code",
   "execution_count": null,
   "id": "4889ce77-e34f-4f4a-9b0e-9a2a8d190da3",
   "metadata": {},
   "outputs": [],
   "source": []
  },
  {
   "cell_type": "code",
   "execution_count": null,
   "id": "08ff27b2-ce65-457c-a032-146acedbfe90",
   "metadata": {},
   "outputs": [],
   "source": []
  },
  {
   "cell_type": "code",
   "execution_count": null,
   "id": "907975fd-1ff1-409a-9ec4-3b9ce4cb3b76",
   "metadata": {},
   "outputs": [],
   "source": []
  },
  {
   "cell_type": "code",
   "execution_count": null,
   "id": "97ee0aec-90d2-43c2-9350-5b9b6d629680",
   "metadata": {},
   "outputs": [],
   "source": []
  },
  {
   "cell_type": "code",
   "execution_count": null,
   "id": "15e1e779-0537-493e-9b19-d72885abc7ef",
   "metadata": {},
   "outputs": [],
   "source": []
  },
  {
   "cell_type": "code",
   "execution_count": 230,
   "id": "bd74e531-05dc-4c62-8834-cc79358649de",
   "metadata": {},
   "outputs": [],
   "source": [
    "for p in parameters:\n",
    "    p.requires_grad = True"
   ]
  },
  {
   "cell_type": "code",
   "execution_count": 214,
   "id": "df7e135a-7dbc-40a7-8f7f-191fd14a8a17",
   "metadata": {},
   "outputs": [],
   "source": [
    "lre = torch.linspace(-3, 0, 1000)\n",
    "lrs = 10**lre"
   ]
  },
  {
   "cell_type": "code",
   "execution_count": null,
   "id": "7f5518fb-1bf6-4e53-a07f-7c6e8abcf83c",
   "metadata": {},
   "outputs": [],
   "source": []
  },
  {
   "cell_type": "code",
   "execution_count": 215,
   "id": "e7da3073-0291-4cf6-a6ea-427310f1989a",
   "metadata": {},
   "outputs": [],
   "source": [
    "lri = []\n",
    "lossi = []\n",
    "stepi = []"
   ]
  },
  {
   "cell_type": "code",
   "execution_count": 231,
   "id": "cac6d51a-8c89-45e5-9bc2-ef26ed7fc96e",
   "metadata": {},
   "outputs": [],
   "source": [
    "\n",
    "\n",
    "for i in range(200000):\n",
    "    # minibatch construct\n",
    "    ix = torch.randint(0, Xtr.shape[0], (32,))\n",
    "\n",
    "    # forward pass\n",
    "    emb = C[Xtr[ix]] # (32, 3, 2)\n",
    "    h = torch.tanh(emb.view(-1, 30) @ W1 + b1) # (32, 100)\n",
    "    logits = h @ W2 + b2 # (32, 27)\n",
    "    # counts = logits.exp()\n",
    "    # prob = counts/ counts.sum(1, keepdims=True)\n",
    "    # loss = -prob[torch.arange(32), Y].log().mean()\n",
    "    loss = F.cross_entropy(logits, Ytr[ix]) \n",
    "    # print(loss.item())\n",
    "    \n",
    "    # always use cross_entropy function in pytorch --> very efficient computationally\n",
    "    # its also numerical well behaved\n",
    "    \n",
    "    \n",
    "    # backward pass\n",
    "    for p in parameters:\n",
    "        p.grad = None\n",
    "    loss.backward()\n",
    "    \n",
    "    #update\n",
    "    lr = 0.1 if i < 100000 else 0.01\n",
    "    for p in parameters:\n",
    "        p.data += -lr * p.grad\n",
    "\n",
    "    # # track stats\n",
    "    # lri.append(lre[i])\n",
    "    stepi.append(i)\n",
    "    lossi.append(loss.log10().item())\n",
    "\n",
    "# learning rate = -1 ? how do you decide learning rate?\n",
    "\n",
    "#print(loss.item())"
   ]
  },
  {
   "cell_type": "code",
   "execution_count": null,
   "id": "43623507-3c15-4a7c-8fb6-ffd6d092a78d",
   "metadata": {},
   "outputs": [],
   "source": []
  },
  {
   "cell_type": "code",
   "execution_count": 232,
   "id": "4e683db5-2bdc-414d-b6d2-5216de6fa88d",
   "metadata": {},
   "outputs": [
    {
     "data": {
      "text/plain": [
       "[<matplotlib.lines.Line2D at 0x16a2e1550>]"
      ]
     },
     "execution_count": 232,
     "metadata": {},
     "output_type": "execute_result"
    },
    {
     "data": {
      "image/png": "[encoded data removed]",
      "text/plain": [
       "<Figure size 640x480 with 1 Axes>"
      ]
     },
     "metadata": {},
     "output_type": "display_data"
    }
   ],
   "source": [
    "plt.plot(stepi, lossi)"
   ]
  },
  {
   "cell_type": "code",
   "execution_count": 93,
   "id": "93bc40cb-a651-4e08-b2bd-302232d91b15",
   "metadata": {},
   "outputs": [],
   "source": [
    "# why are we not able to get loss to zero?\n",
    "    # unique input to unique output\n",
    "# why error is so low in this case?\n"
   ]
  },
  {
   "cell_type": "code",
   "execution_count": 97,
   "id": "24a1502f-55ca-4049-99a6-5ab879bb8f28",
   "metadata": {},
   "outputs": [],
   "source": [
    "x =logits.max(1)"
   ]
  },
  {
   "cell_type": "code",
   "execution_count": 109,
   "id": "dc9bd118-3c02-4b68-a6a4-c3a79ab5b758",
   "metadata": {},
   "outputs": [
    {
     "data": {
      "text/plain": [
       "tensor([158989,  62780,  46407, 211708,  59324, 199524,  71096, 170125,  79818,\n",
       "         66386, 164519,  23341, 153737,  18118,   3396, 214381, 190329,  16422,\n",
       "        216412,  87330, 214197,  39250,   6327, 156388, 225341, 180642, 183091,\n",
       "         48008,  51357,  31222, 153567, 199523])"
      ]
     },
     "execution_count": 109,
     "metadata": {},
     "output_type": "execute_result"
    }
   ],
   "source": [
    "torch.randint(0, X.shape[0], (32,))"
   ]
  },
  {
   "cell_type": "code",
   "execution_count": 221,
   "id": "450afd54-ff93-4100-90f8-ceb0904c2261",
   "metadata": {},
   "outputs": [
    {
     "data": {
      "text/plain": [
       "tensor(2.2028, grad_fn=<NllLossBackward0>)"
      ]
     },
     "execution_count": 221,
     "metadata": {},
     "output_type": "execute_result"
    }
   ],
   "source": [
    "emb = C[Xdev] # (32, 3, 2)\n",
    "h = torch.tanh(emb.view(-1, 30) @ W1 + b1) # (32, 100)\n",
    "logits = h @ W2 + b2 # (32, 27)\n",
    "loss = F.cross_entropy(logits, Ydev)\n",
    "loss"
   ]
  },
  {
   "cell_type": "code",
   "execution_count": null,
   "id": "545d5880-7cca-4e30-9c0d-8ca54964ac63",
   "metadata": {},
   "outputs": [],
   "source": [
    "# how do you find a reasonable learning rate?\n",
    "\n",
    "# learning rate decay during later part of traning.\n",
    "\n",
    "# split dataset : training , dev/validation, test\n",
    "# 80%, 10%, 10%"
   ]
  },
  {
   "cell_type": "code",
   "execution_count": 234,
   "id": "15e2cbd6-0fa3-4f3c-b27c-1cab78bafd2b",
   "metadata": {},
   "outputs": [
    {
     "data": {
      "text/plain": [
       "tensor(2.1532, grad_fn=<NllLossBackward0>)"
      ]
     },
     "execution_count": 234,
     "metadata": {},
     "output_type": "execute_result"
    }
   ],
   "source": [
    "emb = C[Xdev] # (32, 3, 2)\n",
    "h = torch.tanh(emb.view(-1, 30) @ W1 + b1) # (32, 100)\n",
    "logits = h @ W2 + b2 # (32, 27)\n",
    "loss = F.cross_entropy(logits, Ydev)\n",
    "loss"
   ]
  },
  {
   "cell_type": "code",
   "execution_count": 233,
   "id": "2d01dfe3-ac03-4505-9cce-c47baa7ad42c",
   "metadata": {},
   "outputs": [
    {
     "data": {
      "text/plain": [
       "tensor(2.1181, grad_fn=<NllLossBackward0>)"
      ]
     },
     "execution_count": 233,
     "metadata": {},
     "output_type": "execute_result"
    }
   ],
   "source": [
    "emb = C[Xtr] # (32, 3, 2)\n",
    "h = torch.tanh(emb.view(-1, 30) @ W1 + b1) # (32, 100)\n",
    "logits = h @ W2 + b2 # (32, 27)\n",
    "loss = F.cross_entropy(logits, Ytr)\n",
    "loss"
   ]
  },
  {
   "cell_type": "code",
   "execution_count": 201,
   "id": "3ba5d3cd-1754-4f1a-a621-d5a05a52c30a",
   "metadata": {},
   "outputs": [],
   "source": [
    "# since training loss is same develoment loss, that means we can still improve the network using scaling the network.\n",
    "\n",
    "# dimension of embedding can be bottleneck\n",
    "\n",
    "# visualize the embedding vectors"
   ]
  },
  {
   "cell_type": "code",
   "execution_count": 228,
   "id": "e605978a-9b9d-4b7e-8d0f-2bfe5be49b9a",
   "metadata": {},
   "outputs": [
    {
     "data": {
      "image/png": "[encoded data removed]",
      "text/plain": [
       "<Figure size 800x800 with 1 Axes>"
      ]
     },
     "metadata": {},
     "output_type": "display_data"
    }
   ],
   "source": [
    "plt.figure(figsize=(8,8))\n",
    "plt.scatter(C[:,0].data, C[:,1].data, s=100)\n",
    "for i in range(C.shape[0]):\n",
    "    plt.text(C[i,0].item(), C[i,1].item(), itos[i], ha='center', va='center', color='white')\n",
    "\n",
    "plt.grid('minor')"
   ]
  },
  {
   "cell_type": "code",
   "execution_count": null,
   "id": "9143467e-2a54-4e53-a95f-8d1d4eefb3ac",
   "metadata": {},
   "outputs": [],
   "source": [
    "# sample from the model\n",
    "\n",
    "g = torch.Generator().manual_seed(2147483647 + 10)\n",
    "\n",
    "for _ in range(20):"
   ]
  }
 ],
 "metadata": {
  "kernelspec": {
   "display_name": "Python 3 (ipykernel)",
   "language": "python",
   "name": "python3"
  },
  "language_info": {
   "codemirror_mode": {
    "name": "ipython",
    "version": 3
   },
   "file_extension": ".py",
   "mimetype": "text/x-python",
   "name": "python",
   "nbconvert_exporter": "python",
   "pygments_lexer": "ipython3",
   "version": "3.11.7"
  }
 },
 "nbformat": 4,
 "nbformat_minor": 5
}
